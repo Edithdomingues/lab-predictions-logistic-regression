{
 "cells": [
  {
   "cell_type": "code",
   "execution_count": 1,
   "id": "eb7e2128",
   "metadata": {},
   "outputs": [],
   "source": [
    "# Step 1: Import the required modules and get pwd"
   ]
  },
  {
   "cell_type": "code",
   "execution_count": 1,
   "id": "2aaaabb2",
   "metadata": {},
   "outputs": [
    {
     "name": "stdout",
     "output_type": "stream",
     "text": [
      "········\n"
     ]
    }
   ],
   "source": [
    "import pymysql\n",
    "from sqlalchemy import create_engine\n",
    "import pandas as pd\n",
    "import getpass  # To get the password without showing the input\n",
    "password = getpass.getpass()"
   ]
  },
  {
   "cell_type": "code",
   "execution_count": 2,
   "id": "b842d26c",
   "metadata": {},
   "outputs": [],
   "source": [
    "# Get the data"
   ]
  },
  {
   "cell_type": "code",
   "execution_count": 3,
   "id": "bf1d5684",
   "metadata": {},
   "outputs": [
    {
     "data": {
      "text/html": [
       "<div>\n",
       "<style scoped>\n",
       "    .dataframe tbody tr th:only-of-type {\n",
       "        vertical-align: middle;\n",
       "    }\n",
       "\n",
       "    .dataframe tbody tr th {\n",
       "        vertical-align: top;\n",
       "    }\n",
       "\n",
       "    .dataframe thead th {\n",
       "        text-align: right;\n",
       "    }\n",
       "</style>\n",
       "<table border=\"1\" class=\"dataframe\">\n",
       "  <thead>\n",
       "    <tr style=\"text-align: right;\">\n",
       "      <th></th>\n",
       "      <th>film_title</th>\n",
       "      <th>rental_rate</th>\n",
       "      <th>rental_duration</th>\n",
       "      <th>rating</th>\n",
       "      <th>special_features</th>\n",
       "      <th>store_id</th>\n",
       "      <th>category</th>\n",
       "    </tr>\n",
       "  </thead>\n",
       "  <tbody>\n",
       "    <tr>\n",
       "      <th>0</th>\n",
       "      <td>ACADEMY DINOSAUR</td>\n",
       "      <td>0.99</td>\n",
       "      <td>6</td>\n",
       "      <td>PG</td>\n",
       "      <td>Deleted Scenes,Behind the Scenes</td>\n",
       "      <td>2</td>\n",
       "      <td>Documentary</td>\n",
       "    </tr>\n",
       "    <tr>\n",
       "      <th>1</th>\n",
       "      <td>ACADEMY DINOSAUR</td>\n",
       "      <td>0.99</td>\n",
       "      <td>6</td>\n",
       "      <td>PG</td>\n",
       "      <td>Deleted Scenes,Behind the Scenes</td>\n",
       "      <td>1</td>\n",
       "      <td>Documentary</td>\n",
       "    </tr>\n",
       "    <tr>\n",
       "      <th>2</th>\n",
       "      <td>ACADEMY DINOSAUR</td>\n",
       "      <td>0.99</td>\n",
       "      <td>6</td>\n",
       "      <td>PG</td>\n",
       "      <td>Deleted Scenes,Behind the Scenes</td>\n",
       "      <td>1</td>\n",
       "      <td>Documentary</td>\n",
       "    </tr>\n",
       "    <tr>\n",
       "      <th>3</th>\n",
       "      <td>ACADEMY DINOSAUR</td>\n",
       "      <td>0.99</td>\n",
       "      <td>6</td>\n",
       "      <td>PG</td>\n",
       "      <td>Deleted Scenes,Behind the Scenes</td>\n",
       "      <td>1</td>\n",
       "      <td>Documentary</td>\n",
       "    </tr>\n",
       "    <tr>\n",
       "      <th>4</th>\n",
       "      <td>ACADEMY DINOSAUR</td>\n",
       "      <td>0.99</td>\n",
       "      <td>6</td>\n",
       "      <td>PG</td>\n",
       "      <td>Deleted Scenes,Behind the Scenes</td>\n",
       "      <td>1</td>\n",
       "      <td>Documentary</td>\n",
       "    </tr>\n",
       "  </tbody>\n",
       "</table>\n",
       "</div>"
      ],
      "text/plain": [
       "         film_title  rental_rate  rental_duration rating  \\\n",
       "0  ACADEMY DINOSAUR         0.99                6     PG   \n",
       "1  ACADEMY DINOSAUR         0.99                6     PG   \n",
       "2  ACADEMY DINOSAUR         0.99                6     PG   \n",
       "3  ACADEMY DINOSAUR         0.99                6     PG   \n",
       "4  ACADEMY DINOSAUR         0.99                6     PG   \n",
       "\n",
       "                   special_features  store_id     category  \n",
       "0  Deleted Scenes,Behind the Scenes         2  Documentary  \n",
       "1  Deleted Scenes,Behind the Scenes         1  Documentary  \n",
       "2  Deleted Scenes,Behind the Scenes         1  Documentary  \n",
       "3  Deleted Scenes,Behind the Scenes         1  Documentary  \n",
       "4  Deleted Scenes,Behind the Scenes         1  Documentary  "
      ]
     },
     "execution_count": 3,
     "metadata": {},
     "output_type": "execute_result"
    }
   ],
   "source": [
    "connection_string = 'mysql+pymysql://root:' + password + '@localhost/sakila'\n",
    "engine = create_engine(connection_string)\n",
    "query= '''SELECT f.title AS 'film_title', f.rental_rate, f.rental_duration, f.rating, f.special_features, i.store_id, c.name AS 'category'\n",
    "FROM sakila.film f\n",
    "JOIN sakila.inventory i ON f.film_id = i.film_id \n",
    "JOIN sakila.rental r ON r.inventory_id = i.inventory_id\n",
    "JOIN sakila.film_category fc ON fc.film_id = f.film_id \n",
    "JOIN sakila.category c ON c.category_id = fc.category_id \n",
    "ORDER BY f.title;'''\n",
    "\n",
    "sakila_data = pd.read_sql_query(query, engine)\n",
    "sakila_data.head()"
   ]
  },
  {
   "cell_type": "code",
   "execution_count": 4,
   "id": "252891c4",
   "metadata": {},
   "outputs": [
    {
     "data": {
      "text/plain": [
       "(16044, 7)"
      ]
     },
     "execution_count": 4,
     "metadata": {},
     "output_type": "execute_result"
    }
   ],
   "source": [
    "sakila_data.shape"
   ]
  },
  {
   "cell_type": "code",
   "execution_count": 5,
   "id": "6d8024fb",
   "metadata": {},
   "outputs": [
    {
     "data": {
      "text/html": [
       "<div>\n",
       "<style scoped>\n",
       "    .dataframe tbody tr th:only-of-type {\n",
       "        vertical-align: middle;\n",
       "    }\n",
       "\n",
       "    .dataframe tbody tr th {\n",
       "        vertical-align: top;\n",
       "    }\n",
       "\n",
       "    .dataframe thead th {\n",
       "        text-align: right;\n",
       "    }\n",
       "</style>\n",
       "<table border=\"1\" class=\"dataframe\">\n",
       "  <thead>\n",
       "    <tr style=\"text-align: right;\">\n",
       "      <th></th>\n",
       "      <th>film_title</th>\n",
       "      <th>rented</th>\n",
       "    </tr>\n",
       "  </thead>\n",
       "  <tbody>\n",
       "    <tr>\n",
       "      <th>0</th>\n",
       "      <td>ACADEMY DINOSAUR</td>\n",
       "      <td>9</td>\n",
       "    </tr>\n",
       "    <tr>\n",
       "      <th>1</th>\n",
       "      <td>ACE GOLDFINGER</td>\n",
       "      <td>4</td>\n",
       "    </tr>\n",
       "    <tr>\n",
       "      <th>2</th>\n",
       "      <td>ADAPTATION HOLES</td>\n",
       "      <td>6</td>\n",
       "    </tr>\n",
       "    <tr>\n",
       "      <th>3</th>\n",
       "      <td>AFFAIR PREJUDICE</td>\n",
       "      <td>6</td>\n",
       "    </tr>\n",
       "    <tr>\n",
       "      <th>4</th>\n",
       "      <td>AFRICAN EGG</td>\n",
       "      <td>3</td>\n",
       "    </tr>\n",
       "  </tbody>\n",
       "</table>\n",
       "</div>"
      ],
      "text/plain": [
       "         film_title  rented\n",
       "0  ACADEMY DINOSAUR       9\n",
       "1    ACE GOLDFINGER       4\n",
       "2  ADAPTATION HOLES       6\n",
       "3  AFFAIR PREJUDICE       6\n",
       "4       AFRICAN EGG       3"
      ]
     },
     "execution_count": 5,
     "metadata": {},
     "output_type": "execute_result"
    }
   ],
   "source": [
    "connection_string = 'mysql+pymysql://root:' + password + '@localhost/sakila'\n",
    "engine = create_engine(connection_string)\n",
    "query= '''SELECT f.title AS 'film_title', COUNT(r.rental_date) AS rented\n",
    "FROM sakila.film f\n",
    "JOIN sakila.inventory i USING(film_id)\n",
    "JOIN sakila.rental r USING(inventory_id)\n",
    "JOIN sakila.film_category fc USING(film_id)\n",
    "JOIN sakila.category c USING(category_id)\n",
    "WHERE r.rental_date LIKE '%%2005-08%%'\n",
    "GROUP BY f.title\n",
    "ORDER BY f.title;'''\n",
    "\n",
    "sakila_rented = pd.read_sql_query(query, engine)\n",
    "sakila_rented.head()"
   ]
  },
  {
   "cell_type": "code",
   "execution_count": 6,
   "id": "01050108",
   "metadata": {},
   "outputs": [
    {
     "data": {
      "text/plain": [
       "Index(['film_title', 'rental_rate', 'rental_duration', 'rating',\n",
       "       'special_features', 'store_id', 'category'],\n",
       "      dtype='object')"
      ]
     },
     "execution_count": 6,
     "metadata": {},
     "output_type": "execute_result"
    }
   ],
   "source": [
    "sakila_data.columns"
   ]
  },
  {
   "cell_type": "code",
   "execution_count": 7,
   "id": "e7ba945b",
   "metadata": {},
   "outputs": [
    {
     "data": {
      "text/plain": [
       "Index(['film_title', 'rented'], dtype='object')"
      ]
     },
     "execution_count": 7,
     "metadata": {},
     "output_type": "execute_result"
    }
   ],
   "source": [
    "sakila_rented.columns"
   ]
  },
  {
   "cell_type": "code",
   "execution_count": 8,
   "id": "e8583e92",
   "metadata": {},
   "outputs": [
    {
     "data": {
      "text/plain": [
       "Index(['film_title', 'rental_rate', 'rental_duration', 'rating',\n",
       "       'special_features', 'store_id', 'category', 'rented'],\n",
       "      dtype='object')"
      ]
     },
     "execution_count": 8,
     "metadata": {},
     "output_type": "execute_result"
    }
   ],
   "source": [
    "sakila_all_films = pd.merge(sakila_data, sakila_rented)\n",
    "sakila_all_films.columns"
   ]
  },
  {
   "cell_type": "code",
   "execution_count": 9,
   "id": "7972377c",
   "metadata": {},
   "outputs": [],
   "source": [
    "sakila_all_films['rented'] = sakila_all_films['rented'].astype('bool')"
   ]
  },
  {
   "cell_type": "code",
   "execution_count": 10,
   "id": "12ae592a",
   "metadata": {},
   "outputs": [
    {
     "data": {
      "text/html": [
       "<div>\n",
       "<style scoped>\n",
       "    .dataframe tbody tr th:only-of-type {\n",
       "        vertical-align: middle;\n",
       "    }\n",
       "\n",
       "    .dataframe tbody tr th {\n",
       "        vertical-align: top;\n",
       "    }\n",
       "\n",
       "    .dataframe thead th {\n",
       "        text-align: right;\n",
       "    }\n",
       "</style>\n",
       "<table border=\"1\" class=\"dataframe\">\n",
       "  <thead>\n",
       "    <tr style=\"text-align: right;\">\n",
       "      <th></th>\n",
       "      <th>film_title</th>\n",
       "      <th>rental_rate</th>\n",
       "      <th>rental_duration</th>\n",
       "      <th>rating</th>\n",
       "      <th>special_features</th>\n",
       "      <th>store_id</th>\n",
       "      <th>category</th>\n",
       "      <th>rented</th>\n",
       "    </tr>\n",
       "  </thead>\n",
       "  <tbody>\n",
       "    <tr>\n",
       "      <th>0</th>\n",
       "      <td>ACADEMY DINOSAUR</td>\n",
       "      <td>0.99</td>\n",
       "      <td>6</td>\n",
       "      <td>PG</td>\n",
       "      <td>Deleted Scenes,Behind the Scenes</td>\n",
       "      <td>2</td>\n",
       "      <td>Documentary</td>\n",
       "      <td>True</td>\n",
       "    </tr>\n",
       "    <tr>\n",
       "      <th>1</th>\n",
       "      <td>ACADEMY DINOSAUR</td>\n",
       "      <td>0.99</td>\n",
       "      <td>6</td>\n",
       "      <td>PG</td>\n",
       "      <td>Deleted Scenes,Behind the Scenes</td>\n",
       "      <td>1</td>\n",
       "      <td>Documentary</td>\n",
       "      <td>True</td>\n",
       "    </tr>\n",
       "    <tr>\n",
       "      <th>2</th>\n",
       "      <td>ACADEMY DINOSAUR</td>\n",
       "      <td>0.99</td>\n",
       "      <td>6</td>\n",
       "      <td>PG</td>\n",
       "      <td>Deleted Scenes,Behind the Scenes</td>\n",
       "      <td>1</td>\n",
       "      <td>Documentary</td>\n",
       "      <td>True</td>\n",
       "    </tr>\n",
       "    <tr>\n",
       "      <th>3</th>\n",
       "      <td>ACADEMY DINOSAUR</td>\n",
       "      <td>0.99</td>\n",
       "      <td>6</td>\n",
       "      <td>PG</td>\n",
       "      <td>Deleted Scenes,Behind the Scenes</td>\n",
       "      <td>1</td>\n",
       "      <td>Documentary</td>\n",
       "      <td>True</td>\n",
       "    </tr>\n",
       "    <tr>\n",
       "      <th>4</th>\n",
       "      <td>ACADEMY DINOSAUR</td>\n",
       "      <td>0.99</td>\n",
       "      <td>6</td>\n",
       "      <td>PG</td>\n",
       "      <td>Deleted Scenes,Behind the Scenes</td>\n",
       "      <td>1</td>\n",
       "      <td>Documentary</td>\n",
       "      <td>True</td>\n",
       "    </tr>\n",
       "    <tr>\n",
       "      <th>...</th>\n",
       "      <td>...</td>\n",
       "      <td>...</td>\n",
       "      <td>...</td>\n",
       "      <td>...</td>\n",
       "      <td>...</td>\n",
       "      <td>...</td>\n",
       "      <td>...</td>\n",
       "      <td>...</td>\n",
       "    </tr>\n",
       "    <tr>\n",
       "      <th>16039</th>\n",
       "      <td>ZORRO ARK</td>\n",
       "      <td>4.99</td>\n",
       "      <td>3</td>\n",
       "      <td>NC-17</td>\n",
       "      <td>Trailers,Commentaries,Behind the Scenes</td>\n",
       "      <td>1</td>\n",
       "      <td>Comedy</td>\n",
       "      <td>True</td>\n",
       "    </tr>\n",
       "    <tr>\n",
       "      <th>16040</th>\n",
       "      <td>ZORRO ARK</td>\n",
       "      <td>4.99</td>\n",
       "      <td>3</td>\n",
       "      <td>NC-17</td>\n",
       "      <td>Trailers,Commentaries,Behind the Scenes</td>\n",
       "      <td>1</td>\n",
       "      <td>Comedy</td>\n",
       "      <td>True</td>\n",
       "    </tr>\n",
       "    <tr>\n",
       "      <th>16041</th>\n",
       "      <td>ZORRO ARK</td>\n",
       "      <td>4.99</td>\n",
       "      <td>3</td>\n",
       "      <td>NC-17</td>\n",
       "      <td>Trailers,Commentaries,Behind the Scenes</td>\n",
       "      <td>1</td>\n",
       "      <td>Comedy</td>\n",
       "      <td>True</td>\n",
       "    </tr>\n",
       "    <tr>\n",
       "      <th>16042</th>\n",
       "      <td>ZORRO ARK</td>\n",
       "      <td>4.99</td>\n",
       "      <td>3</td>\n",
       "      <td>NC-17</td>\n",
       "      <td>Trailers,Commentaries,Behind the Scenes</td>\n",
       "      <td>1</td>\n",
       "      <td>Comedy</td>\n",
       "      <td>True</td>\n",
       "    </tr>\n",
       "    <tr>\n",
       "      <th>16043</th>\n",
       "      <td>ZORRO ARK</td>\n",
       "      <td>4.99</td>\n",
       "      <td>3</td>\n",
       "      <td>NC-17</td>\n",
       "      <td>Trailers,Commentaries,Behind the Scenes</td>\n",
       "      <td>1</td>\n",
       "      <td>Comedy</td>\n",
       "      <td>True</td>\n",
       "    </tr>\n",
       "  </tbody>\n",
       "</table>\n",
       "<p>16044 rows × 8 columns</p>\n",
       "</div>"
      ],
      "text/plain": [
       "             film_title  rental_rate  rental_duration rating  \\\n",
       "0      ACADEMY DINOSAUR         0.99                6     PG   \n",
       "1      ACADEMY DINOSAUR         0.99                6     PG   \n",
       "2      ACADEMY DINOSAUR         0.99                6     PG   \n",
       "3      ACADEMY DINOSAUR         0.99                6     PG   \n",
       "4      ACADEMY DINOSAUR         0.99                6     PG   \n",
       "...                 ...          ...              ...    ...   \n",
       "16039         ZORRO ARK         4.99                3  NC-17   \n",
       "16040         ZORRO ARK         4.99                3  NC-17   \n",
       "16041         ZORRO ARK         4.99                3  NC-17   \n",
       "16042         ZORRO ARK         4.99                3  NC-17   \n",
       "16043         ZORRO ARK         4.99                3  NC-17   \n",
       "\n",
       "                              special_features  store_id     category  rented  \n",
       "0             Deleted Scenes,Behind the Scenes         2  Documentary    True  \n",
       "1             Deleted Scenes,Behind the Scenes         1  Documentary    True  \n",
       "2             Deleted Scenes,Behind the Scenes         1  Documentary    True  \n",
       "3             Deleted Scenes,Behind the Scenes         1  Documentary    True  \n",
       "4             Deleted Scenes,Behind the Scenes         1  Documentary    True  \n",
       "...                                        ...       ...          ...     ...  \n",
       "16039  Trailers,Commentaries,Behind the Scenes         1       Comedy    True  \n",
       "16040  Trailers,Commentaries,Behind the Scenes         1       Comedy    True  \n",
       "16041  Trailers,Commentaries,Behind the Scenes         1       Comedy    True  \n",
       "16042  Trailers,Commentaries,Behind the Scenes         1       Comedy    True  \n",
       "16043  Trailers,Commentaries,Behind the Scenes         1       Comedy    True  \n",
       "\n",
       "[16044 rows x 8 columns]"
      ]
     },
     "execution_count": 10,
     "metadata": {},
     "output_type": "execute_result"
    }
   ],
   "source": [
    "sakila_all_films"
   ]
  },
  {
   "cell_type": "code",
   "execution_count": 11,
   "id": "74d21f67",
   "metadata": {},
   "outputs": [
    {
     "data": {
      "text/plain": [
       "True    16044\n",
       "Name: rented, dtype: int64"
      ]
     },
     "execution_count": 11,
     "metadata": {},
     "output_type": "execute_result"
    }
   ],
   "source": [
    "sakila_all_films['rented'].value_counts(dropna=False)"
   ]
  },
  {
   "cell_type": "code",
   "execution_count": 12,
   "id": "6fe26623",
   "metadata": {},
   "outputs": [
    {
     "data": {
      "text/plain": [
       "film_title           object\n",
       "rental_rate         float64\n",
       "rental_duration       int64\n",
       "rating               object\n",
       "special_features     object\n",
       "store_id              int64\n",
       "category             object\n",
       "rented                 bool\n",
       "dtype: object"
      ]
     },
     "execution_count": 12,
     "metadata": {},
     "output_type": "execute_result"
    }
   ],
   "source": [
    "sakila_all_films.dtypes"
   ]
  },
  {
   "cell_type": "code",
   "execution_count": 13,
   "id": "bf3674bf",
   "metadata": {},
   "outputs": [],
   "source": [
    "#sakila_all_films = sakila_all_films.drop(['title'], axis =1)\n",
    "#sakila_all_films = sakila_all_films.drop(['language_id'], axis =1)"
   ]
  },
  {
   "cell_type": "code",
   "execution_count": 14,
   "id": "0da103a9",
   "metadata": {},
   "outputs": [
    {
     "data": {
      "text/html": [
       "<div>\n",
       "<style scoped>\n",
       "    .dataframe tbody tr th:only-of-type {\n",
       "        vertical-align: middle;\n",
       "    }\n",
       "\n",
       "    .dataframe tbody tr th {\n",
       "        vertical-align: top;\n",
       "    }\n",
       "\n",
       "    .dataframe thead th {\n",
       "        text-align: right;\n",
       "    }\n",
       "</style>\n",
       "<table border=\"1\" class=\"dataframe\">\n",
       "  <thead>\n",
       "    <tr style=\"text-align: right;\">\n",
       "      <th></th>\n",
       "      <th>film_title</th>\n",
       "      <th>rental_rate</th>\n",
       "      <th>rental_duration</th>\n",
       "      <th>rating</th>\n",
       "      <th>special_features</th>\n",
       "      <th>store_id</th>\n",
       "      <th>category</th>\n",
       "      <th>rented</th>\n",
       "    </tr>\n",
       "  </thead>\n",
       "  <tbody>\n",
       "    <tr>\n",
       "      <th>0</th>\n",
       "      <td>ACADEMY DINOSAUR</td>\n",
       "      <td>0.99</td>\n",
       "      <td>6</td>\n",
       "      <td>PG</td>\n",
       "      <td>Deleted Scenes,Behind the Scenes</td>\n",
       "      <td>2</td>\n",
       "      <td>Documentary</td>\n",
       "      <td>True</td>\n",
       "    </tr>\n",
       "    <tr>\n",
       "      <th>1</th>\n",
       "      <td>ACADEMY DINOSAUR</td>\n",
       "      <td>0.99</td>\n",
       "      <td>6</td>\n",
       "      <td>PG</td>\n",
       "      <td>Deleted Scenes,Behind the Scenes</td>\n",
       "      <td>1</td>\n",
       "      <td>Documentary</td>\n",
       "      <td>True</td>\n",
       "    </tr>\n",
       "    <tr>\n",
       "      <th>2</th>\n",
       "      <td>ACADEMY DINOSAUR</td>\n",
       "      <td>0.99</td>\n",
       "      <td>6</td>\n",
       "      <td>PG</td>\n",
       "      <td>Deleted Scenes,Behind the Scenes</td>\n",
       "      <td>1</td>\n",
       "      <td>Documentary</td>\n",
       "      <td>True</td>\n",
       "    </tr>\n",
       "    <tr>\n",
       "      <th>3</th>\n",
       "      <td>ACADEMY DINOSAUR</td>\n",
       "      <td>0.99</td>\n",
       "      <td>6</td>\n",
       "      <td>PG</td>\n",
       "      <td>Deleted Scenes,Behind the Scenes</td>\n",
       "      <td>1</td>\n",
       "      <td>Documentary</td>\n",
       "      <td>True</td>\n",
       "    </tr>\n",
       "    <tr>\n",
       "      <th>4</th>\n",
       "      <td>ACADEMY DINOSAUR</td>\n",
       "      <td>0.99</td>\n",
       "      <td>6</td>\n",
       "      <td>PG</td>\n",
       "      <td>Deleted Scenes,Behind the Scenes</td>\n",
       "      <td>1</td>\n",
       "      <td>Documentary</td>\n",
       "      <td>True</td>\n",
       "    </tr>\n",
       "  </tbody>\n",
       "</table>\n",
       "</div>"
      ],
      "text/plain": [
       "         film_title  rental_rate  rental_duration rating  \\\n",
       "0  ACADEMY DINOSAUR         0.99                6     PG   \n",
       "1  ACADEMY DINOSAUR         0.99                6     PG   \n",
       "2  ACADEMY DINOSAUR         0.99                6     PG   \n",
       "3  ACADEMY DINOSAUR         0.99                6     PG   \n",
       "4  ACADEMY DINOSAUR         0.99                6     PG   \n",
       "\n",
       "                   special_features  store_id     category  rented  \n",
       "0  Deleted Scenes,Behind the Scenes         2  Documentary    True  \n",
       "1  Deleted Scenes,Behind the Scenes         1  Documentary    True  \n",
       "2  Deleted Scenes,Behind the Scenes         1  Documentary    True  \n",
       "3  Deleted Scenes,Behind the Scenes         1  Documentary    True  \n",
       "4  Deleted Scenes,Behind the Scenes         1  Documentary    True  "
      ]
     },
     "execution_count": 14,
     "metadata": {},
     "output_type": "execute_result"
    }
   ],
   "source": [
    "sakila_all_films.head()"
   ]
  },
  {
   "cell_type": "code",
   "execution_count": 15,
   "id": "262d5db0",
   "metadata": {},
   "outputs": [
    {
     "data": {
      "text/plain": [
       "film_title          0\n",
       "rental_rate         0\n",
       "rental_duration     0\n",
       "rating              0\n",
       "special_features    0\n",
       "store_id            0\n",
       "category            0\n",
       "rented              0\n",
       "dtype: int64"
      ]
     },
     "execution_count": 15,
     "metadata": {},
     "output_type": "execute_result"
    }
   ],
   "source": [
    "sakila_all_films.isna().sum()"
   ]
  },
  {
   "cell_type": "code",
   "execution_count": 16,
   "id": "e69c5d24",
   "metadata": {},
   "outputs": [],
   "source": [
    "sakila_all_films['rating'] = sakila_all_films['rating'].astype('object')"
   ]
  },
  {
   "cell_type": "code",
   "execution_count": 17,
   "id": "667e3122",
   "metadata": {},
   "outputs": [],
   "source": [
    "sakila_all_films['special_features'] = sakila_all_films['special_features'].astype('object')"
   ]
  },
  {
   "cell_type": "code",
   "execution_count": 18,
   "id": "7e57d1db",
   "metadata": {},
   "outputs": [
    {
     "data": {
      "text/html": [
       "<div>\n",
       "<style scoped>\n",
       "    .dataframe tbody tr th:only-of-type {\n",
       "        vertical-align: middle;\n",
       "    }\n",
       "\n",
       "    .dataframe tbody tr th {\n",
       "        vertical-align: top;\n",
       "    }\n",
       "\n",
       "    .dataframe thead th {\n",
       "        text-align: right;\n",
       "    }\n",
       "</style>\n",
       "<table border=\"1\" class=\"dataframe\">\n",
       "  <thead>\n",
       "    <tr style=\"text-align: right;\">\n",
       "      <th></th>\n",
       "      <th>count</th>\n",
       "      <th>mean</th>\n",
       "      <th>std</th>\n",
       "      <th>min</th>\n",
       "      <th>25%</th>\n",
       "      <th>50%</th>\n",
       "      <th>75%</th>\n",
       "      <th>max</th>\n",
       "    </tr>\n",
       "  </thead>\n",
       "  <tbody>\n",
       "    <tr>\n",
       "      <th>rental_rate</th>\n",
       "      <td>16044.0</td>\n",
       "      <td>2.942630</td>\n",
       "      <td>1.649678</td>\n",
       "      <td>0.99</td>\n",
       "      <td>0.99</td>\n",
       "      <td>2.99</td>\n",
       "      <td>4.99</td>\n",
       "      <td>4.99</td>\n",
       "    </tr>\n",
       "    <tr>\n",
       "      <th>rental_duration</th>\n",
       "      <td>16044.0</td>\n",
       "      <td>4.935490</td>\n",
       "      <td>1.401690</td>\n",
       "      <td>3.00</td>\n",
       "      <td>4.00</td>\n",
       "      <td>5.00</td>\n",
       "      <td>6.00</td>\n",
       "      <td>7.00</td>\n",
       "    </tr>\n",
       "    <tr>\n",
       "      <th>store_id</th>\n",
       "      <td>16044.0</td>\n",
       "      <td>1.506171</td>\n",
       "      <td>0.499978</td>\n",
       "      <td>1.00</td>\n",
       "      <td>1.00</td>\n",
       "      <td>2.00</td>\n",
       "      <td>2.00</td>\n",
       "      <td>2.00</td>\n",
       "    </tr>\n",
       "  </tbody>\n",
       "</table>\n",
       "</div>"
      ],
      "text/plain": [
       "                   count      mean       std   min   25%   50%   75%   max\n",
       "rental_rate      16044.0  2.942630  1.649678  0.99  0.99  2.99  4.99  4.99\n",
       "rental_duration  16044.0  4.935490  1.401690  3.00  4.00  5.00  6.00  7.00\n",
       "store_id         16044.0  1.506171  0.499978  1.00  1.00  2.00  2.00  2.00"
      ]
     },
     "execution_count": 18,
     "metadata": {},
     "output_type": "execute_result"
    }
   ],
   "source": [
    "sakila_all_films.describe().T"
   ]
  },
  {
   "cell_type": "code",
   "execution_count": 19,
   "id": "e36e26f9",
   "metadata": {},
   "outputs": [
    {
     "data": {
      "text/plain": [
       "<bound method IndexOpsMixin.value_counts of 0           PG\n",
       "1           PG\n",
       "2           PG\n",
       "3           PG\n",
       "4           PG\n",
       "         ...  \n",
       "16039    NC-17\n",
       "16040    NC-17\n",
       "16041    NC-17\n",
       "16042    NC-17\n",
       "16043    NC-17\n",
       "Name: rating, Length: 16044, dtype: object>"
      ]
     },
     "execution_count": 19,
     "metadata": {},
     "output_type": "execute_result"
    }
   ],
   "source": [
    "sakila_all_films['rating'].value_counts"
   ]
  },
  {
   "cell_type": "code",
   "execution_count": 20,
   "id": "232db285",
   "metadata": {},
   "outputs": [
    {
     "data": {
      "text/plain": [
       "<bound method IndexOpsMixin.value_counts of 0               Deleted Scenes,Behind the Scenes\n",
       "1               Deleted Scenes,Behind the Scenes\n",
       "2               Deleted Scenes,Behind the Scenes\n",
       "3               Deleted Scenes,Behind the Scenes\n",
       "4               Deleted Scenes,Behind the Scenes\n",
       "                          ...                   \n",
       "16039    Trailers,Commentaries,Behind the Scenes\n",
       "16040    Trailers,Commentaries,Behind the Scenes\n",
       "16041    Trailers,Commentaries,Behind the Scenes\n",
       "16042    Trailers,Commentaries,Behind the Scenes\n",
       "16043    Trailers,Commentaries,Behind the Scenes\n",
       "Name: special_features, Length: 16044, dtype: object>"
      ]
     },
     "execution_count": 20,
     "metadata": {},
     "output_type": "execute_result"
    }
   ],
   "source": [
    "sakila_all_films['special_features'].value_counts"
   ]
  },
  {
   "cell_type": "code",
   "execution_count": 21,
   "id": "f291e886",
   "metadata": {},
   "outputs": [],
   "source": [
    "import matplotlib.pyplot as plt\n",
    "import pandas as pd\n",
    "import numpy as np\n",
    "import matplotlib.pyplot as plt\n",
    "import seaborn as sns\n",
    "from sklearn.preprocessing import StandardScaler"
   ]
  },
  {
   "cell_type": "code",
   "execution_count": 22,
   "id": "936a11de",
   "metadata": {},
   "outputs": [
    {
     "data": {
      "image/png": "[encoded data removed]",
      "text/plain": [
       "<Figure size 720x576 with 2 Axes>"
      ]
     },
     "metadata": {
      "needs_background": "light"
     },
     "output_type": "display_data"
    }
   ],
   "source": [
    "corr_matrix=sakila_all_films.corr(method='pearson')  \n",
    "fig, ax = plt.subplots(figsize=(10, 8))\n",
    "ax = sns.heatmap(corr_matrix, annot=True)\n",
    "plt.show()"
   ]
  },
  {
   "cell_type": "code",
   "execution_count": 23,
   "id": "432f8e21",
   "metadata": {},
   "outputs": [],
   "source": [
    "#Train-test-split \n",
    "y = sakila_all_films['rented']\n",
    "X = sakila_all_films.drop('rented', axis=1)\n",
    "from sklearn.model_selection import train_test_split\n",
    "X_train, X_test, y_train, y_test = train_test_split(X, y, test_size=0.4, random_state=42)"
   ]
  },
  {
   "cell_type": "code",
   "execution_count": 28,
   "id": "6d5d0919",
   "metadata": {},
   "outputs": [
    {
     "data": {
      "text/plain": [
       "(9626, 7)"
      ]
     },
     "execution_count": 28,
     "metadata": {},
     "output_type": "execute_result"
    }
   ],
   "source": [
    "X_train.shape"
   ]
  },
  {
   "cell_type": "code",
   "execution_count": 32,
   "id": "8e456dea",
   "metadata": {},
   "outputs": [],
   "source": [
    "import numpy as np\n",
    "from sklearn.preprocessing import MinMaxScaler\n",
    "# from sklearn.preprocessing import StandardScaler\n",
    "\n",
    "X_train_num = X_train.select_dtypes(include = np.number)\n",
    "\n",
    "# Scaling data\n",
    "transformer = MinMaxScaler().fit(X_train_num) # need to keep transformer\n",
    "X_train_normalized = transformer.transform(X_train_num)\n",
    "X_train_norm = pd.DataFrame(X_train_normalized)"
   ]
  },
  {
   "cell_type": "code",
   "execution_count": 33,
   "id": "d509f63c",
   "metadata": {},
   "outputs": [
    {
     "data": {
      "text/html": [
       "<div>\n",
       "<style scoped>\n",
       "    .dataframe tbody tr th:only-of-type {\n",
       "        vertical-align: middle;\n",
       "    }\n",
       "\n",
       "    .dataframe tbody tr th {\n",
       "        vertical-align: top;\n",
       "    }\n",
       "\n",
       "    .dataframe thead th {\n",
       "        text-align: right;\n",
       "    }\n",
       "</style>\n",
       "<table border=\"1\" class=\"dataframe\">\n",
       "  <thead>\n",
       "    <tr style=\"text-align: right;\">\n",
       "      <th></th>\n",
       "      <th>rental_rate</th>\n",
       "      <th>rental_duration</th>\n",
       "      <th>store_id</th>\n",
       "    </tr>\n",
       "  </thead>\n",
       "  <tbody>\n",
       "    <tr>\n",
       "      <th>0</th>\n",
       "      <td>0.0</td>\n",
       "      <td>0.0</td>\n",
       "      <td>0.0</td>\n",
       "    </tr>\n",
       "    <tr>\n",
       "      <th>1</th>\n",
       "      <td>0.0</td>\n",
       "      <td>0.0</td>\n",
       "      <td>1.0</td>\n",
       "    </tr>\n",
       "    <tr>\n",
       "      <th>2</th>\n",
       "      <td>0.5</td>\n",
       "      <td>1.0</td>\n",
       "      <td>0.0</td>\n",
       "    </tr>\n",
       "    <tr>\n",
       "      <th>3</th>\n",
       "      <td>0.0</td>\n",
       "      <td>0.5</td>\n",
       "      <td>1.0</td>\n",
       "    </tr>\n",
       "    <tr>\n",
       "      <th>4</th>\n",
       "      <td>0.0</td>\n",
       "      <td>0.0</td>\n",
       "      <td>1.0</td>\n",
       "    </tr>\n",
       "  </tbody>\n",
       "</table>\n",
       "</div>"
      ],
      "text/plain": [
       "   rental_rate  rental_duration  store_id\n",
       "0          0.0              0.0       0.0\n",
       "1          0.0              0.0       1.0\n",
       "2          0.5              1.0       0.0\n",
       "3          0.0              0.5       1.0\n",
       "4          0.0              0.0       1.0"
      ]
     },
     "execution_count": 33,
     "metadata": {},
     "output_type": "execute_result"
    }
   ],
   "source": [
    "X_train_norm.columns = X_train_num.columns\n",
    "X_train_norm.head()"
   ]
  },
  {
   "cell_type": "code",
   "execution_count": 36,
   "id": "2b9aecd9",
   "metadata": {},
   "outputs": [
    {
     "name": "stderr",
     "output_type": "stream",
     "text": [
      "<ipython-input-36-24a8abfe61e5>:1: DeprecationWarning: `np.object` is a deprecated alias for the builtin `object`. To silence this warning, use `object` by itself. Doing this will not modify any behavior and is safe. \n",
      "Deprecated in NumPy 1.20; for more details and guidance: https://numpy.org/devdocs/release/1.20.0-notes.html#deprecations\n",
      "  X_train_categorical = X_train.select_dtypes(include = np.object)\n"
     ]
    },
    {
     "data": {
      "text/html": [
       "<div>\n",
       "<style scoped>\n",
       "    .dataframe tbody tr th:only-of-type {\n",
       "        vertical-align: middle;\n",
       "    }\n",
       "\n",
       "    .dataframe tbody tr th {\n",
       "        vertical-align: top;\n",
       "    }\n",
       "\n",
       "    .dataframe thead th {\n",
       "        text-align: right;\n",
       "    }\n",
       "</style>\n",
       "<table border=\"1\" class=\"dataframe\">\n",
       "  <thead>\n",
       "    <tr style=\"text-align: right;\">\n",
       "      <th></th>\n",
       "      <th>film_title</th>\n",
       "      <th>category</th>\n",
       "      <th>rating_NC-17</th>\n",
       "      <th>rating_PG</th>\n",
       "      <th>rating_PG-13</th>\n",
       "      <th>rating_R</th>\n",
       "      <th>special_features_Commentaries</th>\n",
       "      <th>special_features_Commentaries,Behind the Scenes</th>\n",
       "      <th>special_features_Commentaries,Deleted Scenes</th>\n",
       "      <th>special_features_Commentaries,Deleted Scenes,Behind the Scenes</th>\n",
       "      <th>special_features_Deleted Scenes</th>\n",
       "      <th>special_features_Deleted Scenes,Behind the Scenes</th>\n",
       "      <th>special_features_Trailers</th>\n",
       "      <th>special_features_Trailers,Behind the Scenes</th>\n",
       "      <th>special_features_Trailers,Commentaries</th>\n",
       "      <th>special_features_Trailers,Commentaries,Behind the Scenes</th>\n",
       "      <th>special_features_Trailers,Commentaries,Deleted Scenes</th>\n",
       "      <th>special_features_Trailers,Commentaries,Deleted Scenes,Behind the Scenes</th>\n",
       "      <th>special_features_Trailers,Deleted Scenes</th>\n",
       "      <th>special_features_Trailers,Deleted Scenes,Behind the Scenes</th>\n",
       "    </tr>\n",
       "  </thead>\n",
       "  <tbody>\n",
       "    <tr>\n",
       "      <th>14014</th>\n",
       "      <td>SWEETHEARTS SUSPECTS</td>\n",
       "      <td>Children</td>\n",
       "      <td>0</td>\n",
       "      <td>0</td>\n",
       "      <td>0</td>\n",
       "      <td>0</td>\n",
       "      <td>0</td>\n",
       "      <td>0</td>\n",
       "      <td>0</td>\n",
       "      <td>0</td>\n",
       "      <td>0</td>\n",
       "      <td>0</td>\n",
       "      <td>0</td>\n",
       "      <td>0</td>\n",
       "      <td>0</td>\n",
       "      <td>0</td>\n",
       "      <td>0</td>\n",
       "      <td>1</td>\n",
       "      <td>0</td>\n",
       "      <td>0</td>\n",
       "    </tr>\n",
       "    <tr>\n",
       "      <th>6908</th>\n",
       "      <td>HONEY TIES</td>\n",
       "      <td>Sports</td>\n",
       "      <td>0</td>\n",
       "      <td>0</td>\n",
       "      <td>0</td>\n",
       "      <td>1</td>\n",
       "      <td>0</td>\n",
       "      <td>0</td>\n",
       "      <td>0</td>\n",
       "      <td>0</td>\n",
       "      <td>0</td>\n",
       "      <td>0</td>\n",
       "      <td>0</td>\n",
       "      <td>0</td>\n",
       "      <td>0</td>\n",
       "      <td>0</td>\n",
       "      <td>1</td>\n",
       "      <td>0</td>\n",
       "      <td>0</td>\n",
       "      <td>0</td>\n",
       "    </tr>\n",
       "    <tr>\n",
       "      <th>7637</th>\n",
       "      <td>ISLAND EXORCIST</td>\n",
       "      <td>Classics</td>\n",
       "      <td>1</td>\n",
       "      <td>0</td>\n",
       "      <td>0</td>\n",
       "      <td>0</td>\n",
       "      <td>0</td>\n",
       "      <td>0</td>\n",
       "      <td>0</td>\n",
       "      <td>0</td>\n",
       "      <td>0</td>\n",
       "      <td>0</td>\n",
       "      <td>0</td>\n",
       "      <td>0</td>\n",
       "      <td>1</td>\n",
       "      <td>0</td>\n",
       "      <td>0</td>\n",
       "      <td>0</td>\n",
       "      <td>0</td>\n",
       "      <td>0</td>\n",
       "    </tr>\n",
       "    <tr>\n",
       "      <th>826</th>\n",
       "      <td>BANGER PINOCCHIO</td>\n",
       "      <td>Music</td>\n",
       "      <td>0</td>\n",
       "      <td>0</td>\n",
       "      <td>0</td>\n",
       "      <td>1</td>\n",
       "      <td>0</td>\n",
       "      <td>0</td>\n",
       "      <td>0</td>\n",
       "      <td>0</td>\n",
       "      <td>0</td>\n",
       "      <td>0</td>\n",
       "      <td>0</td>\n",
       "      <td>0</td>\n",
       "      <td>0</td>\n",
       "      <td>0</td>\n",
       "      <td>1</td>\n",
       "      <td>0</td>\n",
       "      <td>0</td>\n",
       "      <td>0</td>\n",
       "    </tr>\n",
       "    <tr>\n",
       "      <th>10450</th>\n",
       "      <td>PACKER MADIGAN</td>\n",
       "      <td>Animation</td>\n",
       "      <td>0</td>\n",
       "      <td>0</td>\n",
       "      <td>1</td>\n",
       "      <td>0</td>\n",
       "      <td>0</td>\n",
       "      <td>0</td>\n",
       "      <td>0</td>\n",
       "      <td>0</td>\n",
       "      <td>0</td>\n",
       "      <td>0</td>\n",
       "      <td>1</td>\n",
       "      <td>0</td>\n",
       "      <td>0</td>\n",
       "      <td>0</td>\n",
       "      <td>0</td>\n",
       "      <td>0</td>\n",
       "      <td>0</td>\n",
       "      <td>0</td>\n",
       "    </tr>\n",
       "  </tbody>\n",
       "</table>\n",
       "</div>"
      ],
      "text/plain": [
       "                 film_title   category  rating_NC-17  rating_PG  rating_PG-13  \\\n",
       "14014  SWEETHEARTS SUSPECTS   Children             0          0             0   \n",
       "6908             HONEY TIES     Sports             0          0             0   \n",
       "7637        ISLAND EXORCIST   Classics             1          0             0   \n",
       "826        BANGER PINOCCHIO      Music             0          0             0   \n",
       "10450        PACKER MADIGAN  Animation             0          0             1   \n",
       "\n",
       "       rating_R  special_features_Commentaries  \\\n",
       "14014         0                              0   \n",
       "6908          1                              0   \n",
       "7637          0                              0   \n",
       "826           1                              0   \n",
       "10450         0                              0   \n",
       "\n",
       "       special_features_Commentaries,Behind the Scenes  \\\n",
       "14014                                                0   \n",
       "6908                                                 0   \n",
       "7637                                                 0   \n",
       "826                                                  0   \n",
       "10450                                                0   \n",
       "\n",
       "       special_features_Commentaries,Deleted Scenes  \\\n",
       "14014                                             0   \n",
       "6908                                              0   \n",
       "7637                                              0   \n",
       "826                                               0   \n",
       "10450                                             0   \n",
       "\n",
       "       special_features_Commentaries,Deleted Scenes,Behind the Scenes  \\\n",
       "14014                                                  0                \n",
       "6908                                                   0                \n",
       "7637                                                   0                \n",
       "826                                                    0                \n",
       "10450                                                  0                \n",
       "\n",
       "       special_features_Deleted Scenes  \\\n",
       "14014                                0   \n",
       "6908                                 0   \n",
       "7637                                 0   \n",
       "826                                  0   \n",
       "10450                                0   \n",
       "\n",
       "       special_features_Deleted Scenes,Behind the Scenes  \\\n",
       "14014                                                  0   \n",
       "6908                                                   0   \n",
       "7637                                                   0   \n",
       "826                                                    0   \n",
       "10450                                                  0   \n",
       "\n",
       "       special_features_Trailers  special_features_Trailers,Behind the Scenes  \\\n",
       "14014                          0                                            0   \n",
       "6908                           0                                            0   \n",
       "7637                           0                                            0   \n",
       "826                            0                                            0   \n",
       "10450                          1                                            0   \n",
       "\n",
       "       special_features_Trailers,Commentaries  \\\n",
       "14014                                       0   \n",
       "6908                                        0   \n",
       "7637                                        1   \n",
       "826                                         0   \n",
       "10450                                       0   \n",
       "\n",
       "       special_features_Trailers,Commentaries,Behind the Scenes  \\\n",
       "14014                                                  0          \n",
       "6908                                                   0          \n",
       "7637                                                   0          \n",
       "826                                                    0          \n",
       "10450                                                  0          \n",
       "\n",
       "       special_features_Trailers,Commentaries,Deleted Scenes  \\\n",
       "14014                                                  0       \n",
       "6908                                                   1       \n",
       "7637                                                   0       \n",
       "826                                                    1       \n",
       "10450                                                  0       \n",
       "\n",
       "       special_features_Trailers,Commentaries,Deleted Scenes,Behind the Scenes  \\\n",
       "14014                                                  1                         \n",
       "6908                                                   0                         \n",
       "7637                                                   0                         \n",
       "826                                                    0                         \n",
       "10450                                                  0                         \n",
       "\n",
       "       special_features_Trailers,Deleted Scenes  \\\n",
       "14014                                         0   \n",
       "6908                                          0   \n",
       "7637                                          0   \n",
       "826                                           0   \n",
       "10450                                         0   \n",
       "\n",
       "       special_features_Trailers,Deleted Scenes,Behind the Scenes  \n",
       "14014                                                  0           \n",
       "6908                                                   0           \n",
       "7637                                                   0           \n",
       "826                                                    0           \n",
       "10450                                                  0           "
      ]
     },
     "execution_count": 36,
     "metadata": {},
     "output_type": "execute_result"
    }
   ],
   "source": [
    "X_train_categorical = X_train.select_dtypes(include = np.object)\n",
    "X_train_cat = pd.get_dummies(X_train_categorical, \n",
    "                             columns=['rating', 'special_features'],\n",
    "                             drop_first=True)\n",
    "X_train_cat.head()"
   ]
  },
  {
   "cell_type": "code",
   "execution_count": 38,
   "id": "93db2ac7",
   "metadata": {},
   "outputs": [
    {
     "data": {
      "image/png": "[encoded data removed]",
      "text/plain": [
       "<Figure size 360x360 with 1 Axes>"
      ]
     },
     "metadata": {
      "needs_background": "light"
     },
     "output_type": "display_data"
    },
    {
     "data": {
      "image/png": "[encoded data removed]",
      "text/plain": [
       "<Figure size 360x360 with 1 Axes>"
      ]
     },
     "metadata": {
      "needs_background": "light"
     },
     "output_type": "display_data"
    },
    {
     "data": {
      "image/png": "[encoded data removed]",
      "text/plain": [
       "<Figure size 360x360 with 1 Axes>"
      ]
     },
     "metadata": {
      "needs_background": "light"
     },
     "output_type": "display_data"
    }
   ],
   "source": [
    "# Explore visually the transformed numerical columns\n",
    "sns.displot(X_train_norm['rental_rate'])\n",
    "plt.show()\n",
    "\n",
    "sns.displot(X_train_norm['rental_duration'])\n",
    "plt.show()\n",
    "\n",
    "sns.displot(X_train_norm['store_id'])\n",
    "plt.show()\n"
   ]
  },
  {
   "cell_type": "code",
   "execution_count": 47,
   "id": "307878c6",
   "metadata": {},
   "outputs": [],
   "source": [
    "X_train_transformed = np.concatenate([X_train_norm, X_train_cat], axis=1)"
   ]
  },
  {
   "cell_type": "code",
   "execution_count": 50,
   "id": "5ccd26e6",
   "metadata": {},
   "outputs": [
    {
     "ename": "ValueError",
     "evalue": "could not convert string to float: 'SWEETHEARTS SUSPECTS'",
     "output_type": "error",
     "traceback": [
      "\u001b[1;31m---------------------------------------------------------------------------\u001b[0m",
      "\u001b[1;31mValueError\u001b[0m                                Traceback (most recent call last)",
      "\u001b[1;32m<ipython-input-50-1dff1cda1aa4>\u001b[0m in \u001b[0;36m<module>\u001b[1;34m\u001b[0m\n\u001b[0;32m      1\u001b[0m \u001b[1;32mfrom\u001b[0m \u001b[0msklearn\u001b[0m\u001b[1;33m.\u001b[0m\u001b[0mlinear_model\u001b[0m \u001b[1;32mimport\u001b[0m \u001b[0mLogisticRegression\u001b[0m\u001b[1;33m\u001b[0m\u001b[1;33m\u001b[0m\u001b[0m\n\u001b[1;32m----> 2\u001b[1;33m classification = LogisticRegression(random_state=0, solver='lbfgs',\n\u001b[0m\u001b[0;32m      3\u001b[0m                   multi_class='multinomial').fit(X_train_transformed, y_train)\n",
      "\u001b[1;32m~\\anaconda3\\lib\\site-packages\\sklearn\\linear_model\\_logistic.py\u001b[0m in \u001b[0;36mfit\u001b[1;34m(self, X, y, sample_weight)\u001b[0m\n\u001b[0;32m   1342\u001b[0m             \u001b[0m_dtype\u001b[0m \u001b[1;33m=\u001b[0m \u001b[1;33m[\u001b[0m\u001b[0mnp\u001b[0m\u001b[1;33m.\u001b[0m\u001b[0mfloat64\u001b[0m\u001b[1;33m,\u001b[0m \u001b[0mnp\u001b[0m\u001b[1;33m.\u001b[0m\u001b[0mfloat32\u001b[0m\u001b[1;33m]\u001b[0m\u001b[1;33m\u001b[0m\u001b[1;33m\u001b[0m\u001b[0m\n\u001b[0;32m   1343\u001b[0m \u001b[1;33m\u001b[0m\u001b[0m\n\u001b[1;32m-> 1344\u001b[1;33m         X, y = self._validate_data(X, y, accept_sparse='csr', dtype=_dtype,\n\u001b[0m\u001b[0;32m   1345\u001b[0m                                    \u001b[0morder\u001b[0m\u001b[1;33m=\u001b[0m\u001b[1;34m\"C\"\u001b[0m\u001b[1;33m,\u001b[0m\u001b[1;33m\u001b[0m\u001b[1;33m\u001b[0m\u001b[0m\n\u001b[0;32m   1346\u001b[0m                                    accept_large_sparse=solver != 'liblinear')\n",
      "\u001b[1;32m~\\anaconda3\\lib\\site-packages\\sklearn\\base.py\u001b[0m in \u001b[0;36m_validate_data\u001b[1;34m(self, X, y, reset, validate_separately, **check_params)\u001b[0m\n\u001b[0;32m    431\u001b[0m                 \u001b[0my\u001b[0m \u001b[1;33m=\u001b[0m \u001b[0mcheck_array\u001b[0m\u001b[1;33m(\u001b[0m\u001b[0my\u001b[0m\u001b[1;33m,\u001b[0m \u001b[1;33m**\u001b[0m\u001b[0mcheck_y_params\u001b[0m\u001b[1;33m)\u001b[0m\u001b[1;33m\u001b[0m\u001b[1;33m\u001b[0m\u001b[0m\n\u001b[0;32m    432\u001b[0m             \u001b[1;32melse\u001b[0m\u001b[1;33m:\u001b[0m\u001b[1;33m\u001b[0m\u001b[1;33m\u001b[0m\u001b[0m\n\u001b[1;32m--> 433\u001b[1;33m                 \u001b[0mX\u001b[0m\u001b[1;33m,\u001b[0m \u001b[0my\u001b[0m \u001b[1;33m=\u001b[0m \u001b[0mcheck_X_y\u001b[0m\u001b[1;33m(\u001b[0m\u001b[0mX\u001b[0m\u001b[1;33m,\u001b[0m \u001b[0my\u001b[0m\u001b[1;33m,\u001b[0m \u001b[1;33m**\u001b[0m\u001b[0mcheck_params\u001b[0m\u001b[1;33m)\u001b[0m\u001b[1;33m\u001b[0m\u001b[1;33m\u001b[0m\u001b[0m\n\u001b[0m\u001b[0;32m    434\u001b[0m             \u001b[0mout\u001b[0m \u001b[1;33m=\u001b[0m \u001b[0mX\u001b[0m\u001b[1;33m,\u001b[0m \u001b[0my\u001b[0m\u001b[1;33m\u001b[0m\u001b[1;33m\u001b[0m\u001b[0m\n\u001b[0;32m    435\u001b[0m \u001b[1;33m\u001b[0m\u001b[0m\n",
      "\u001b[1;32m~\\anaconda3\\lib\\site-packages\\sklearn\\utils\\validation.py\u001b[0m in \u001b[0;36minner_f\u001b[1;34m(*args, **kwargs)\u001b[0m\n\u001b[0;32m     61\u001b[0m             \u001b[0mextra_args\u001b[0m \u001b[1;33m=\u001b[0m \u001b[0mlen\u001b[0m\u001b[1;33m(\u001b[0m\u001b[0margs\u001b[0m\u001b[1;33m)\u001b[0m \u001b[1;33m-\u001b[0m \u001b[0mlen\u001b[0m\u001b[1;33m(\u001b[0m\u001b[0mall_args\u001b[0m\u001b[1;33m)\u001b[0m\u001b[1;33m\u001b[0m\u001b[1;33m\u001b[0m\u001b[0m\n\u001b[0;32m     62\u001b[0m             \u001b[1;32mif\u001b[0m \u001b[0mextra_args\u001b[0m \u001b[1;33m<=\u001b[0m \u001b[1;36m0\u001b[0m\u001b[1;33m:\u001b[0m\u001b[1;33m\u001b[0m\u001b[1;33m\u001b[0m\u001b[0m\n\u001b[1;32m---> 63\u001b[1;33m                 \u001b[1;32mreturn\u001b[0m \u001b[0mf\u001b[0m\u001b[1;33m(\u001b[0m\u001b[1;33m*\u001b[0m\u001b[0margs\u001b[0m\u001b[1;33m,\u001b[0m \u001b[1;33m**\u001b[0m\u001b[0mkwargs\u001b[0m\u001b[1;33m)\u001b[0m\u001b[1;33m\u001b[0m\u001b[1;33m\u001b[0m\u001b[0m\n\u001b[0m\u001b[0;32m     64\u001b[0m \u001b[1;33m\u001b[0m\u001b[0m\n\u001b[0;32m     65\u001b[0m             \u001b[1;31m# extra_args > 0\u001b[0m\u001b[1;33m\u001b[0m\u001b[1;33m\u001b[0m\u001b[1;33m\u001b[0m\u001b[0m\n",
      "\u001b[1;32m~\\anaconda3\\lib\\site-packages\\sklearn\\utils\\validation.py\u001b[0m in \u001b[0;36mcheck_X_y\u001b[1;34m(X, y, accept_sparse, accept_large_sparse, dtype, order, copy, force_all_finite, ensure_2d, allow_nd, multi_output, ensure_min_samples, ensure_min_features, y_numeric, estimator)\u001b[0m\n\u001b[0;32m    812\u001b[0m         \u001b[1;32mraise\u001b[0m \u001b[0mValueError\u001b[0m\u001b[1;33m(\u001b[0m\u001b[1;34m\"y cannot be None\"\u001b[0m\u001b[1;33m)\u001b[0m\u001b[1;33m\u001b[0m\u001b[1;33m\u001b[0m\u001b[0m\n\u001b[0;32m    813\u001b[0m \u001b[1;33m\u001b[0m\u001b[0m\n\u001b[1;32m--> 814\u001b[1;33m     X = check_array(X, accept_sparse=accept_sparse,\n\u001b[0m\u001b[0;32m    815\u001b[0m                     \u001b[0maccept_large_sparse\u001b[0m\u001b[1;33m=\u001b[0m\u001b[0maccept_large_sparse\u001b[0m\u001b[1;33m,\u001b[0m\u001b[1;33m\u001b[0m\u001b[1;33m\u001b[0m\u001b[0m\n\u001b[0;32m    816\u001b[0m                     \u001b[0mdtype\u001b[0m\u001b[1;33m=\u001b[0m\u001b[0mdtype\u001b[0m\u001b[1;33m,\u001b[0m \u001b[0morder\u001b[0m\u001b[1;33m=\u001b[0m\u001b[0morder\u001b[0m\u001b[1;33m,\u001b[0m \u001b[0mcopy\u001b[0m\u001b[1;33m=\u001b[0m\u001b[0mcopy\u001b[0m\u001b[1;33m,\u001b[0m\u001b[1;33m\u001b[0m\u001b[1;33m\u001b[0m\u001b[0m\n",
      "\u001b[1;32m~\\anaconda3\\lib\\site-packages\\sklearn\\utils\\validation.py\u001b[0m in \u001b[0;36minner_f\u001b[1;34m(*args, **kwargs)\u001b[0m\n\u001b[0;32m     61\u001b[0m             \u001b[0mextra_args\u001b[0m \u001b[1;33m=\u001b[0m \u001b[0mlen\u001b[0m\u001b[1;33m(\u001b[0m\u001b[0margs\u001b[0m\u001b[1;33m)\u001b[0m \u001b[1;33m-\u001b[0m \u001b[0mlen\u001b[0m\u001b[1;33m(\u001b[0m\u001b[0mall_args\u001b[0m\u001b[1;33m)\u001b[0m\u001b[1;33m\u001b[0m\u001b[1;33m\u001b[0m\u001b[0m\n\u001b[0;32m     62\u001b[0m             \u001b[1;32mif\u001b[0m \u001b[0mextra_args\u001b[0m \u001b[1;33m<=\u001b[0m \u001b[1;36m0\u001b[0m\u001b[1;33m:\u001b[0m\u001b[1;33m\u001b[0m\u001b[1;33m\u001b[0m\u001b[0m\n\u001b[1;32m---> 63\u001b[1;33m                 \u001b[1;32mreturn\u001b[0m \u001b[0mf\u001b[0m\u001b[1;33m(\u001b[0m\u001b[1;33m*\u001b[0m\u001b[0margs\u001b[0m\u001b[1;33m,\u001b[0m \u001b[1;33m**\u001b[0m\u001b[0mkwargs\u001b[0m\u001b[1;33m)\u001b[0m\u001b[1;33m\u001b[0m\u001b[1;33m\u001b[0m\u001b[0m\n\u001b[0m\u001b[0;32m     64\u001b[0m \u001b[1;33m\u001b[0m\u001b[0m\n\u001b[0;32m     65\u001b[0m             \u001b[1;31m# extra_args > 0\u001b[0m\u001b[1;33m\u001b[0m\u001b[1;33m\u001b[0m\u001b[1;33m\u001b[0m\u001b[0m\n",
      "\u001b[1;32m~\\anaconda3\\lib\\site-packages\\sklearn\\utils\\validation.py\u001b[0m in \u001b[0;36mcheck_array\u001b[1;34m(array, accept_sparse, accept_large_sparse, dtype, order, copy, force_all_finite, ensure_2d, allow_nd, ensure_min_samples, ensure_min_features, estimator)\u001b[0m\n\u001b[0;32m    614\u001b[0m                     \u001b[0marray\u001b[0m \u001b[1;33m=\u001b[0m \u001b[0marray\u001b[0m\u001b[1;33m.\u001b[0m\u001b[0mastype\u001b[0m\u001b[1;33m(\u001b[0m\u001b[0mdtype\u001b[0m\u001b[1;33m,\u001b[0m \u001b[0mcasting\u001b[0m\u001b[1;33m=\u001b[0m\u001b[1;34m\"unsafe\"\u001b[0m\u001b[1;33m,\u001b[0m \u001b[0mcopy\u001b[0m\u001b[1;33m=\u001b[0m\u001b[1;32mFalse\u001b[0m\u001b[1;33m)\u001b[0m\u001b[1;33m\u001b[0m\u001b[1;33m\u001b[0m\u001b[0m\n\u001b[0;32m    615\u001b[0m                 \u001b[1;32melse\u001b[0m\u001b[1;33m:\u001b[0m\u001b[1;33m\u001b[0m\u001b[1;33m\u001b[0m\u001b[0m\n\u001b[1;32m--> 616\u001b[1;33m                     \u001b[0marray\u001b[0m \u001b[1;33m=\u001b[0m \u001b[0mnp\u001b[0m\u001b[1;33m.\u001b[0m\u001b[0masarray\u001b[0m\u001b[1;33m(\u001b[0m\u001b[0marray\u001b[0m\u001b[1;33m,\u001b[0m \u001b[0morder\u001b[0m\u001b[1;33m=\u001b[0m\u001b[0morder\u001b[0m\u001b[1;33m,\u001b[0m \u001b[0mdtype\u001b[0m\u001b[1;33m=\u001b[0m\u001b[0mdtype\u001b[0m\u001b[1;33m)\u001b[0m\u001b[1;33m\u001b[0m\u001b[1;33m\u001b[0m\u001b[0m\n\u001b[0m\u001b[0;32m    617\u001b[0m             \u001b[1;32mexcept\u001b[0m \u001b[0mComplexWarning\u001b[0m \u001b[1;32mas\u001b[0m \u001b[0mcomplex_warning\u001b[0m\u001b[1;33m:\u001b[0m\u001b[1;33m\u001b[0m\u001b[1;33m\u001b[0m\u001b[0m\n\u001b[0;32m    618\u001b[0m                 raise ValueError(\"Complex data not supported\\n\"\n",
      "\u001b[1;32m~\\anaconda3\\lib\\site-packages\\numpy\\core\\_asarray.py\u001b[0m in \u001b[0;36masarray\u001b[1;34m(a, dtype, order, like)\u001b[0m\n\u001b[0;32m    100\u001b[0m         \u001b[1;32mreturn\u001b[0m \u001b[0m_asarray_with_like\u001b[0m\u001b[1;33m(\u001b[0m\u001b[0ma\u001b[0m\u001b[1;33m,\u001b[0m \u001b[0mdtype\u001b[0m\u001b[1;33m=\u001b[0m\u001b[0mdtype\u001b[0m\u001b[1;33m,\u001b[0m \u001b[0morder\u001b[0m\u001b[1;33m=\u001b[0m\u001b[0morder\u001b[0m\u001b[1;33m,\u001b[0m \u001b[0mlike\u001b[0m\u001b[1;33m=\u001b[0m\u001b[0mlike\u001b[0m\u001b[1;33m)\u001b[0m\u001b[1;33m\u001b[0m\u001b[1;33m\u001b[0m\u001b[0m\n\u001b[0;32m    101\u001b[0m \u001b[1;33m\u001b[0m\u001b[0m\n\u001b[1;32m--> 102\u001b[1;33m     \u001b[1;32mreturn\u001b[0m \u001b[0marray\u001b[0m\u001b[1;33m(\u001b[0m\u001b[0ma\u001b[0m\u001b[1;33m,\u001b[0m \u001b[0mdtype\u001b[0m\u001b[1;33m,\u001b[0m \u001b[0mcopy\u001b[0m\u001b[1;33m=\u001b[0m\u001b[1;32mFalse\u001b[0m\u001b[1;33m,\u001b[0m \u001b[0morder\u001b[0m\u001b[1;33m=\u001b[0m\u001b[0morder\u001b[0m\u001b[1;33m)\u001b[0m\u001b[1;33m\u001b[0m\u001b[1;33m\u001b[0m\u001b[0m\n\u001b[0m\u001b[0;32m    103\u001b[0m \u001b[1;33m\u001b[0m\u001b[0m\n\u001b[0;32m    104\u001b[0m \u001b[1;33m\u001b[0m\u001b[0m\n",
      "\u001b[1;31mValueError\u001b[0m: could not convert string to float: 'SWEETHEARTS SUSPECTS'"
     ]
    }
   ],
   "source": [
    "from sklearn.linear_model import LogisticRegression\n",
    "classification = LogisticRegression(random_state=0, solver='lbfgs',\n",
    "                  multi_class='multinomial').fit(X_train_transformed, y_train)"
   ]
  },
  {
   "cell_type": "code",
   "execution_count": null,
   "id": "0a103a2b",
   "metadata": {},
   "outputs": [],
   "source": [
    "#perform transformations on the X_test as well"
   ]
  },
  {
   "cell_type": "code",
   "execution_count": 42,
   "id": "5452a554",
   "metadata": {},
   "outputs": [],
   "source": [
    "# for numericals\n",
    "X_test_num = X_test.select_dtypes(include = np.number)\n",
    "\n",
    "# Scaling data\n",
    "# we use the transformer that was trained on the training data\n",
    "X_test_normalized = transformer.transform(X_test_num)\n",
    "X_test_norm = pd.DataFrame(X_test_normalized)"
   ]
  },
  {
   "cell_type": "code",
   "execution_count": 43,
   "id": "0b4dec9a",
   "metadata": {},
   "outputs": [
    {
     "name": "stderr",
     "output_type": "stream",
     "text": [
      "<ipython-input-43-31c80ef68202>:2: DeprecationWarning: `np.object` is a deprecated alias for the builtin `object`. To silence this warning, use `object` by itself. Doing this will not modify any behavior and is safe. \n",
      "Deprecated in NumPy 1.20; for more details and guidance: https://numpy.org/devdocs/release/1.20.0-notes.html#deprecations\n",
      "  X_test_categorical = X_test.select_dtypes(include = np.object)\n"
     ]
    },
    {
     "data": {
      "text/plain": [
       "[('film_title', 'film_title'),\n",
       " ('category', 'category'),\n",
       " ('rating_NC-17', 'rating_NC-17'),\n",
       " ('rating_PG', 'rating_PG'),\n",
       " ('rating_PG-13', 'rating_PG-13'),\n",
       " ('rating_R', 'rating_R'),\n",
       " ('special_features_Commentaries', 'special_features_Commentaries'),\n",
       " ('special_features_Commentaries,Behind the Scenes',\n",
       "  'special_features_Commentaries,Behind the Scenes'),\n",
       " ('special_features_Commentaries,Deleted Scenes',\n",
       "  'special_features_Commentaries,Deleted Scenes'),\n",
       " ('special_features_Commentaries,Deleted Scenes,Behind the Scenes',\n",
       "  'special_features_Commentaries,Deleted Scenes,Behind the Scenes'),\n",
       " ('special_features_Deleted Scenes', 'special_features_Deleted Scenes'),\n",
       " ('special_features_Deleted Scenes,Behind the Scenes',\n",
       "  'special_features_Deleted Scenes,Behind the Scenes'),\n",
       " ('special_features_Trailers', 'special_features_Trailers'),\n",
       " ('special_features_Trailers,Behind the Scenes',\n",
       "  'special_features_Trailers,Behind the Scenes'),\n",
       " ('special_features_Trailers,Commentaries',\n",
       "  'special_features_Trailers,Commentaries'),\n",
       " ('special_features_Trailers,Commentaries,Behind the Scenes',\n",
       "  'special_features_Trailers,Commentaries,Behind the Scenes'),\n",
       " ('special_features_Trailers,Commentaries,Deleted Scenes',\n",
       "  'special_features_Trailers,Commentaries,Deleted Scenes'),\n",
       " ('special_features_Trailers,Commentaries,Deleted Scenes,Behind the Scenes',\n",
       "  'special_features_Trailers,Commentaries,Deleted Scenes,Behind the Scenes'),\n",
       " ('special_features_Trailers,Deleted Scenes',\n",
       "  'special_features_Trailers,Deleted Scenes'),\n",
       " ('special_features_Trailers,Deleted Scenes,Behind the Scenes',\n",
       "  'special_features_Trailers,Deleted Scenes,Behind the Scenes')]"
      ]
     },
     "metadata": {},
     "output_type": "display_data"
    },
    {
     "data": {
      "text/html": [
       "<div>\n",
       "<style scoped>\n",
       "    .dataframe tbody tr th:only-of-type {\n",
       "        vertical-align: middle;\n",
       "    }\n",
       "\n",
       "    .dataframe tbody tr th {\n",
       "        vertical-align: top;\n",
       "    }\n",
       "\n",
       "    .dataframe thead th {\n",
       "        text-align: right;\n",
       "    }\n",
       "</style>\n",
       "<table border=\"1\" class=\"dataframe\">\n",
       "  <thead>\n",
       "    <tr style=\"text-align: right;\">\n",
       "      <th></th>\n",
       "      <th>film_title</th>\n",
       "      <th>category</th>\n",
       "      <th>rating_NC-17</th>\n",
       "      <th>rating_PG</th>\n",
       "      <th>rating_PG-13</th>\n",
       "      <th>rating_R</th>\n",
       "      <th>special_features_Commentaries</th>\n",
       "      <th>special_features_Commentaries,Behind the Scenes</th>\n",
       "      <th>special_features_Commentaries,Deleted Scenes</th>\n",
       "      <th>special_features_Commentaries,Deleted Scenes,Behind the Scenes</th>\n",
       "      <th>special_features_Deleted Scenes</th>\n",
       "      <th>special_features_Deleted Scenes,Behind the Scenes</th>\n",
       "      <th>special_features_Trailers</th>\n",
       "      <th>special_features_Trailers,Behind the Scenes</th>\n",
       "      <th>special_features_Trailers,Commentaries</th>\n",
       "      <th>special_features_Trailers,Commentaries,Behind the Scenes</th>\n",
       "      <th>special_features_Trailers,Commentaries,Deleted Scenes</th>\n",
       "      <th>special_features_Trailers,Commentaries,Deleted Scenes,Behind the Scenes</th>\n",
       "      <th>special_features_Trailers,Deleted Scenes</th>\n",
       "      <th>special_features_Trailers,Deleted Scenes,Behind the Scenes</th>\n",
       "    </tr>\n",
       "  </thead>\n",
       "  <tbody>\n",
       "    <tr>\n",
       "      <th>8248</th>\n",
       "      <td>LEATHERNECKS DWARFS</td>\n",
       "      <td>Travel</td>\n",
       "      <td>0</td>\n",
       "      <td>0</td>\n",
       "      <td>1</td>\n",
       "      <td>0</td>\n",
       "      <td>0</td>\n",
       "      <td>0</td>\n",
       "      <td>0</td>\n",
       "      <td>0</td>\n",
       "      <td>0</td>\n",
       "      <td>0</td>\n",
       "      <td>0</td>\n",
       "      <td>0</td>\n",
       "      <td>0</td>\n",
       "      <td>1</td>\n",
       "      <td>0</td>\n",
       "      <td>0</td>\n",
       "      <td>0</td>\n",
       "      <td>0</td>\n",
       "    </tr>\n",
       "    <tr>\n",
       "      <th>4045</th>\n",
       "      <td>DRUMLINE CYCLONE</td>\n",
       "      <td>Travel</td>\n",
       "      <td>0</td>\n",
       "      <td>0</td>\n",
       "      <td>0</td>\n",
       "      <td>0</td>\n",
       "      <td>0</td>\n",
       "      <td>0</td>\n",
       "      <td>0</td>\n",
       "      <td>1</td>\n",
       "      <td>0</td>\n",
       "      <td>0</td>\n",
       "      <td>0</td>\n",
       "      <td>0</td>\n",
       "      <td>0</td>\n",
       "      <td>0</td>\n",
       "      <td>0</td>\n",
       "      <td>0</td>\n",
       "      <td>0</td>\n",
       "      <td>0</td>\n",
       "    </tr>\n",
       "    <tr>\n",
       "      <th>4147</th>\n",
       "      <td>DYNAMITE TARZAN</td>\n",
       "      <td>Classics</td>\n",
       "      <td>0</td>\n",
       "      <td>0</td>\n",
       "      <td>1</td>\n",
       "      <td>0</td>\n",
       "      <td>0</td>\n",
       "      <td>0</td>\n",
       "      <td>0</td>\n",
       "      <td>0</td>\n",
       "      <td>1</td>\n",
       "      <td>0</td>\n",
       "      <td>0</td>\n",
       "      <td>0</td>\n",
       "      <td>0</td>\n",
       "      <td>0</td>\n",
       "      <td>0</td>\n",
       "      <td>0</td>\n",
       "      <td>0</td>\n",
       "      <td>0</td>\n",
       "    </tr>\n",
       "    <tr>\n",
       "      <th>11927</th>\n",
       "      <td>ROUGE SQUAD</td>\n",
       "      <td>Games</td>\n",
       "      <td>1</td>\n",
       "      <td>0</td>\n",
       "      <td>0</td>\n",
       "      <td>0</td>\n",
       "      <td>0</td>\n",
       "      <td>0</td>\n",
       "      <td>0</td>\n",
       "      <td>1</td>\n",
       "      <td>0</td>\n",
       "      <td>0</td>\n",
       "      <td>0</td>\n",
       "      <td>0</td>\n",
       "      <td>0</td>\n",
       "      <td>0</td>\n",
       "      <td>0</td>\n",
       "      <td>0</td>\n",
       "      <td>0</td>\n",
       "      <td>0</td>\n",
       "    </tr>\n",
       "    <tr>\n",
       "      <th>7625</th>\n",
       "      <td>ISLAND EXORCIST</td>\n",
       "      <td>Classics</td>\n",
       "      <td>1</td>\n",
       "      <td>0</td>\n",
       "      <td>0</td>\n",
       "      <td>0</td>\n",
       "      <td>0</td>\n",
       "      <td>0</td>\n",
       "      <td>0</td>\n",
       "      <td>0</td>\n",
       "      <td>0</td>\n",
       "      <td>0</td>\n",
       "      <td>0</td>\n",
       "      <td>0</td>\n",
       "      <td>1</td>\n",
       "      <td>0</td>\n",
       "      <td>0</td>\n",
       "      <td>0</td>\n",
       "      <td>0</td>\n",
       "      <td>0</td>\n",
       "    </tr>\n",
       "  </tbody>\n",
       "</table>\n",
       "</div>"
      ],
      "text/plain": [
       "                film_title  category  rating_NC-17  rating_PG  rating_PG-13  \\\n",
       "8248   LEATHERNECKS DWARFS    Travel             0          0             1   \n",
       "4045      DRUMLINE CYCLONE    Travel             0          0             0   \n",
       "4147       DYNAMITE TARZAN  Classics             0          0             1   \n",
       "11927          ROUGE SQUAD     Games             1          0             0   \n",
       "7625       ISLAND EXORCIST  Classics             1          0             0   \n",
       "\n",
       "       rating_R  special_features_Commentaries  \\\n",
       "8248          0                              0   \n",
       "4045          0                              0   \n",
       "4147          0                              0   \n",
       "11927         0                              0   \n",
       "7625          0                              0   \n",
       "\n",
       "       special_features_Commentaries,Behind the Scenes  \\\n",
       "8248                                                 0   \n",
       "4045                                                 0   \n",
       "4147                                                 0   \n",
       "11927                                                0   \n",
       "7625                                                 0   \n",
       "\n",
       "       special_features_Commentaries,Deleted Scenes  \\\n",
       "8248                                              0   \n",
       "4045                                              0   \n",
       "4147                                              0   \n",
       "11927                                             0   \n",
       "7625                                              0   \n",
       "\n",
       "       special_features_Commentaries,Deleted Scenes,Behind the Scenes  \\\n",
       "8248                                                   0                \n",
       "4045                                                   1                \n",
       "4147                                                   0                \n",
       "11927                                                  1                \n",
       "7625                                                   0                \n",
       "\n",
       "       special_features_Deleted Scenes  \\\n",
       "8248                                 0   \n",
       "4045                                 0   \n",
       "4147                                 1   \n",
       "11927                                0   \n",
       "7625                                 0   \n",
       "\n",
       "       special_features_Deleted Scenes,Behind the Scenes  \\\n",
       "8248                                                   0   \n",
       "4045                                                   0   \n",
       "4147                                                   0   \n",
       "11927                                                  0   \n",
       "7625                                                   0   \n",
       "\n",
       "       special_features_Trailers  special_features_Trailers,Behind the Scenes  \\\n",
       "8248                           0                                            0   \n",
       "4045                           0                                            0   \n",
       "4147                           0                                            0   \n",
       "11927                          0                                            0   \n",
       "7625                           0                                            0   \n",
       "\n",
       "       special_features_Trailers,Commentaries  \\\n",
       "8248                                        0   \n",
       "4045                                        0   \n",
       "4147                                        0   \n",
       "11927                                       0   \n",
       "7625                                        1   \n",
       "\n",
       "       special_features_Trailers,Commentaries,Behind the Scenes  \\\n",
       "8248                                                   1          \n",
       "4045                                                   0          \n",
       "4147                                                   0          \n",
       "11927                                                  0          \n",
       "7625                                                   0          \n",
       "\n",
       "       special_features_Trailers,Commentaries,Deleted Scenes  \\\n",
       "8248                                                   0       \n",
       "4045                                                   0       \n",
       "4147                                                   0       \n",
       "11927                                                  0       \n",
       "7625                                                   0       \n",
       "\n",
       "       special_features_Trailers,Commentaries,Deleted Scenes,Behind the Scenes  \\\n",
       "8248                                                   0                         \n",
       "4045                                                   0                         \n",
       "4147                                                   0                         \n",
       "11927                                                  0                         \n",
       "7625                                                   0                         \n",
       "\n",
       "       special_features_Trailers,Deleted Scenes  \\\n",
       "8248                                          0   \n",
       "4045                                          0   \n",
       "4147                                          0   \n",
       "11927                                         0   \n",
       "7625                                          0   \n",
       "\n",
       "       special_features_Trailers,Deleted Scenes,Behind the Scenes  \n",
       "8248                                                   0           \n",
       "4045                                                   0           \n",
       "4147                                                   0           \n",
       "11927                                                  0           \n",
       "7625                                                   0           "
      ]
     },
     "execution_count": 43,
     "metadata": {},
     "output_type": "execute_result"
    }
   ],
   "source": [
    "# for categoricals\n",
    "X_test_categorical = X_test.select_dtypes(include = np.object)\n",
    "X_test_cat = pd.get_dummies(X_test_categorical, \n",
    "                            columns=['rating', 'special_features'],\n",
    "                            drop_first=True)\n",
    "\n",
    "display(list(zip(list(X_train_cat.columns),list(X_test_cat.columns))))\n",
    "\n",
    "\n",
    "X_test_cat.head()"
   ]
  },
  {
   "cell_type": "code",
   "execution_count": 44,
   "id": "dbd27aaf",
   "metadata": {},
   "outputs": [],
   "source": [
    "X_test_transformed = np.concatenate([X_test_norm, X_test_cat], axis=1)"
   ]
  },
  {
   "cell_type": "code",
   "execution_count": 45,
   "id": "9e36f9b6",
   "metadata": {},
   "outputs": [
    {
     "ename": "NameError",
     "evalue": "name 'classification' is not defined",
     "output_type": "error",
     "traceback": [
      "\u001b[1;31m---------------------------------------------------------------------------\u001b[0m",
      "\u001b[1;31mNameError\u001b[0m                                 Traceback (most recent call last)",
      "\u001b[1;32m<ipython-input-45-9e377c022a20>\u001b[0m in \u001b[0;36m<module>\u001b[1;34m\u001b[0m\n\u001b[0;32m      1\u001b[0m \u001b[1;31m# Now we can make predictions on the test set:\u001b[0m\u001b[1;33m\u001b[0m\u001b[1;33m\u001b[0m\u001b[1;33m\u001b[0m\u001b[0m\n\u001b[1;32m----> 2\u001b[1;33m \u001b[0mpredictions\u001b[0m \u001b[1;33m=\u001b[0m \u001b[0mclassification\u001b[0m\u001b[1;33m.\u001b[0m\u001b[0mpredict\u001b[0m\u001b[1;33m(\u001b[0m\u001b[0mX_test_transformed\u001b[0m\u001b[1;33m)\u001b[0m\u001b[1;33m\u001b[0m\u001b[1;33m\u001b[0m\u001b[0m\n\u001b[0m\u001b[0;32m      3\u001b[0m \u001b[0mclassification\u001b[0m\u001b[1;33m.\u001b[0m\u001b[0mscore\u001b[0m\u001b[1;33m(\u001b[0m\u001b[0mX_test_transformed\u001b[0m\u001b[1;33m,\u001b[0m \u001b[0my_test\u001b[0m\u001b[1;33m)\u001b[0m\u001b[1;33m\u001b[0m\u001b[1;33m\u001b[0m\u001b[0m\n",
      "\u001b[1;31mNameError\u001b[0m: name 'classification' is not defined"
     ]
    }
   ],
   "source": [
    "# Now we can make predictions on the test set:\n",
    "predictions = classification.predict(X_test_transformed)\n",
    "classification.score(X_test_transformed, y_test)"
   ]
  },
  {
   "cell_type": "code",
   "execution_count": null,
   "id": "d3b2c6e2",
   "metadata": {},
   "outputs": [],
   "source": [
    "#Check on imbalances\n",
    "print(y_test.value_counts())"
   ]
  },
  {
   "cell_type": "code",
   "execution_count": null,
   "id": "4795a84f",
   "metadata": {},
   "outputs": [],
   "source": [
    "from sklearn.metrics import confusion_matrix\n",
    "confusion_matrix(y_test, predictions)"
   ]
  },
  {
   "cell_type": "code",
   "execution_count": null,
   "id": "838c576d",
   "metadata": {},
   "outputs": [],
   "source": [
    "from sklearn import neighbors\n",
    "clf = neighbors.KNeighborsClassifier(n_neighbors=5, weights='uniform')\n",
    "clf.fit(X_train_transformed, y_train)\n",
    "predictions_clf = clf.predict(X_test_transformed)\n",
    "clf.score(X_test_transformed, y_test)"
   ]
  },
  {
   "cell_type": "code",
   "execution_count": null,
   "id": "ecef536c",
   "metadata": {},
   "outputs": [],
   "source": [
    "confusion_matrix(y_test, predictions_clf)"
   ]
  },
  {
   "cell_type": "code",
   "execution_count": null,
   "id": "f2c81ad7",
   "metadata": {},
   "outputs": [],
   "source": [
    "pd.Series(y_test).value_counts()"
   ]
  },
  {
   "cell_type": "code",
   "execution_count": null,
   "id": "4c062aa9",
   "metadata": {},
   "outputs": [],
   "source": [
    "pd.Series(predictions_clf).value_counts()"
   ]
  }
 ],
 "metadata": {
  "kernelspec": {
   "display_name": "Python 3",
   "language": "python",
   "name": "python3"
  },
  "language_info": {
   "codemirror_mode": {
    "name": "ipython",
    "version": 3
   },
   "file_extension": ".py",
   "mimetype": "text/x-python",
   "name": "python",
   "nbconvert_exporter": "python",
   "pygments_lexer": "ipython3",
   "version": "3.8.8"
  }
 },
 "nbformat": 4,
 "nbformat_minor": 5
}
